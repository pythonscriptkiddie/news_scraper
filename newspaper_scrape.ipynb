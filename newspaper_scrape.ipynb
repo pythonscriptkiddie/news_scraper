{
 "cells": [
  {
   "cell_type": "code",
   "execution_count": 6,
   "id": "therapeutic-pipeline",
   "metadata": {},
   "outputs": [],
   "source": [
    "import attr\n",
    "import newspaper as nw\n",
    "from dask.distributed import Client"
   ]
  },
  {
   "cell_type": "code",
   "execution_count": 7,
   "id": "arabic-drinking",
   "metadata": {},
   "outputs": [],
   "source": [
    "c = Client()\n",
    "a = nw.Article('https://www.somaliaffairs.com/news/somalias-security-forces-clash-over-tax-money-in-mogadishus-ex-control-afgoi/')"
   ]
  },
  {
   "cell_type": "code",
   "execution_count": 3,
   "id": "federal-information",
   "metadata": {},
   "outputs": [],
   "source": [
    "a.build()"
   ]
  },
  {
   "cell_type": "code",
   "execution_count": 4,
   "id": "spectacular-tonight",
   "metadata": {},
   "outputs": [],
   "source": [
    "@attr.s\n",
    "class ArticleDownload:\n",
    "    title = attr.ib()\n",
    "    publication_date = attr.ib()\n",
    "    summary = attr.ib()\n",
    "    \n",
    "class Publication:\n",
    "    source_url = attr.ib()"
   ]
  },
  {
   "cell_type": "code",
   "execution_count": 5,
   "id": "wireless-presentation",
   "metadata": {},
   "outputs": [
    {
     "ename": "NameError",
     "evalue": "name 'Article' is not defined",
     "output_type": "error",
     "traceback": [
      "\u001b[0;31m---------------------------------------------------------------------------\u001b[0m",
      "\u001b[0;31mNameError\u001b[0m                                 Traceback (most recent call last)",
      "\u001b[0;32m<ipython-input-5-65368cda5c36>\u001b[0m in \u001b[0;36m<module>\u001b[0;34m\u001b[0m\n\u001b[1;32m      1\u001b[0m \u001b[0;31m#a.__dict__\u001b[0m\u001b[0;34m\u001b[0m\u001b[0;34m\u001b[0m\u001b[0;34m\u001b[0m\u001b[0m\n\u001b[0;32m----> 2\u001b[0;31m a1 = Article(title=a.title,\n\u001b[0m\u001b[1;32m      3\u001b[0m             \u001b[0mpublication_date\u001b[0m\u001b[0;34m=\u001b[0m\u001b[0ma\u001b[0m\u001b[0;34m.\u001b[0m\u001b[0mpublish_date\u001b[0m\u001b[0;34m,\u001b[0m\u001b[0;34m\u001b[0m\u001b[0;34m\u001b[0m\u001b[0m\n\u001b[1;32m      4\u001b[0m             summary=a.summary)\n",
      "\u001b[0;31mNameError\u001b[0m: name 'Article' is not defined"
     ]
    }
   ],
   "source": [
    "#a.__dict__\n",
    "a1 = Article(title=a.title,\n",
    "            publication_date=a.publish_date,\n",
    "            summary=a.summary)"
   ]
  },
  {
   "cell_type": "code",
   "execution_count": 27,
   "id": "opposite-tiger",
   "metadata": {},
   "outputs": [
    {
     "ename": "AttributeError",
     "evalue": "'Article' object has no attribute 'description'",
     "output_type": "error",
     "traceback": [
      "\u001b[0;31m---------------------------------------------------------------------------\u001b[0m",
      "\u001b[0;31mAttributeError\u001b[0m                            Traceback (most recent call last)",
      "\u001b[0;32m<ipython-input-27-40476c9f0990>\u001b[0m in \u001b[0;36m<module>\u001b[0;34m\u001b[0m\n\u001b[0;32m----> 1\u001b[0;31m \u001b[0ma\u001b[0m\u001b[0;34m.\u001b[0m\u001b[0mdescription\u001b[0m\u001b[0;34m\u001b[0m\u001b[0;34m\u001b[0m\u001b[0m\n\u001b[0m",
      "\u001b[0;31mAttributeError\u001b[0m: 'Article' object has no attribute 'description'"
     ]
    }
   ],
   "source": []
  },
  {
   "cell_type": "code",
   "execution_count": null,
   "id": "controlling-tiffany",
   "metadata": {},
   "outputs": [],
   "source": []
  }
 ],
 "metadata": {
  "kernelspec": {
   "display_name": "Python 3",
   "language": "python",
   "name": "python3"
  },
  "language_info": {
   "codemirror_mode": {
    "name": "ipython",
    "version": 3
   },
   "file_extension": ".py",
   "mimetype": "text/x-python",
   "name": "python",
   "nbconvert_exporter": "python",
   "pygments_lexer": "ipython3",
   "version": "3.8.8"
  }
 },
 "nbformat": 4,
 "nbformat_minor": 5
}
